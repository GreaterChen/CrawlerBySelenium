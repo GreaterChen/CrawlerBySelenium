{
 "cells": [
  {
   "cell_type": "code",
   "execution_count": 1,
   "metadata": {},
   "outputs": [],
   "source": [
    "import pandas as pd"
   ]
  },
  {
   "cell_type": "code",
   "execution_count": 39,
   "metadata": {},
   "outputs": [
    {
     "data": {
      "text/html": [
       "<div>\n",
       "<style scoped>\n",
       "    .dataframe tbody tr th:only-of-type {\n",
       "        vertical-align: middle;\n",
       "    }\n",
       "\n",
       "    .dataframe tbody tr th {\n",
       "        vertical-align: top;\n",
       "    }\n",
       "\n",
       "    .dataframe thead th {\n",
       "        text-align: right;\n",
       "    }\n",
       "</style>\n",
       "<table border=\"1\" class=\"dataframe\">\n",
       "  <thead>\n",
       "    <tr style=\"text-align: right;\">\n",
       "      <th></th>\n",
       "      <th>Unnamed: 0</th>\n",
       "      <th>企业名称</th>\n",
       "      <th>股东(发起人)</th>\n",
       "      <th>持股比例</th>\n",
       "    </tr>\n",
       "  </thead>\n",
       "  <tbody>\n",
       "    <tr>\n",
       "      <th>0</th>\n",
       "      <td>0</td>\n",
       "      <td>ACI（天津）模具有限公司</td>\n",
       "      <td>ACI 天津有限公司</td>\n",
       "      <td>69.99955%</td>\n",
       "    </tr>\n",
       "    <tr>\n",
       "      <th>1</th>\n",
       "      <td>1</td>\n",
       "      <td>ACI（天津）模具有限公司</td>\n",
       "      <td>常熟俊杰模具有限公司</td>\n",
       "      <td>30.00045%</td>\n",
       "    </tr>\n",
       "    <tr>\n",
       "      <th>2</th>\n",
       "      <td>0</td>\n",
       "      <td>BPW（梅州）车轴有限公司</td>\n",
       "      <td>德国BPW车轴企业公司</td>\n",
       "      <td>80%</td>\n",
       "    </tr>\n",
       "    <tr>\n",
       "      <th>3</th>\n",
       "      <td>1</td>\n",
       "      <td>BPW（梅州）车轴有限公司</td>\n",
       "      <td>广东省梅州市嘉宝工贸公司</td>\n",
       "      <td>20%</td>\n",
       "    </tr>\n",
       "    <tr>\n",
       "      <th>4</th>\n",
       "      <td>0</td>\n",
       "      <td>ECCO（厦门）有限公司</td>\n",
       "      <td>ECCO SHOE PRODUCTION PTE.LTD.</td>\n",
       "      <td>100%</td>\n",
       "    </tr>\n",
       "    <tr>\n",
       "      <th>...</th>\n",
       "      <td>...</td>\n",
       "      <td>...</td>\n",
       "      <td>...</td>\n",
       "      <td>...</td>\n",
       "    </tr>\n",
       "    <tr>\n",
       "      <th>21583</th>\n",
       "      <td>1</td>\n",
       "      <td>侯马普天通信电缆有限公司</td>\n",
       "      <td>中国普天信息产业集团有限公司</td>\n",
       "      <td>20.7502%</td>\n",
       "    </tr>\n",
       "    <tr>\n",
       "      <th>21584</th>\n",
       "      <td>0</td>\n",
       "      <td>侯马市汇丰建材有限公司</td>\n",
       "      <td>蒋安生</td>\n",
       "      <td>99.69962%</td>\n",
       "    </tr>\n",
       "    <tr>\n",
       "      <th>21585</th>\n",
       "      <td>1</td>\n",
       "      <td>侯马市汇丰建材有限公司</td>\n",
       "      <td>山西汇丰新型建材集团有限公司</td>\n",
       "      <td>0.30038%</td>\n",
       "    </tr>\n",
       "    <tr>\n",
       "      <th>21586</th>\n",
       "      <td>0</td>\n",
       "      <td>侯马市浍源面粉厂</td>\n",
       "      <td>侯马市粮食服务中心</td>\n",
       "      <td>100%</td>\n",
       "    </tr>\n",
       "    <tr>\n",
       "      <th>21587</th>\n",
       "      <td>0</td>\n",
       "      <td>侯马市自来水公司</td>\n",
       "      <td>侯马市工业和信息化局</td>\n",
       "      <td>100%</td>\n",
       "    </tr>\n",
       "  </tbody>\n",
       "</table>\n",
       "<p>21588 rows × 4 columns</p>\n",
       "</div>"
      ],
      "text/plain": [
       "       Unnamed: 0           企业名称                        股东(发起人)       持股比例\n",
       "0               0  ACI（天津）模具有限公司                     ACI 天津有限公司  69.99955%\n",
       "1               1  ACI（天津）模具有限公司                     常熟俊杰模具有限公司  30.00045%\n",
       "2               0  BPW（梅州）车轴有限公司                    德国BPW车轴企业公司        80%\n",
       "3               1  BPW（梅州）车轴有限公司                   广东省梅州市嘉宝工贸公司        20%\n",
       "4               0   ECCO（厦门）有限公司  ECCO SHOE PRODUCTION PTE.LTD.       100%\n",
       "...           ...            ...                            ...        ...\n",
       "21583           1   侯马普天通信电缆有限公司                 中国普天信息产业集团有限公司   20.7502%\n",
       "21584           0    侯马市汇丰建材有限公司                            蒋安生  99.69962%\n",
       "21585           1    侯马市汇丰建材有限公司                 山西汇丰新型建材集团有限公司   0.30038%\n",
       "21586           0       侯马市浍源面粉厂                      侯马市粮食服务中心       100%\n",
       "21587           0       侯马市自来水公司                     侯马市工业和信息化局       100%\n",
       "\n",
       "[21588 rows x 4 columns]"
      ]
     },
     "execution_count": 39,
     "metadata": {},
     "output_type": "execute_result"
    }
   ],
   "source": [
    "data = pd.read_csv(\"../crawler_result/Holder/0-10000/result.csv\")\n",
    "data"
   ]
  },
  {
   "cell_type": "code",
   "execution_count": 40,
   "metadata": {},
   "outputs": [],
   "source": [
    "cnt = 0\n",
    "new_radio = []\n",
    "for item in data['持股比例']:\n",
    "    if '持股详情' in item:\n",
    "        new_radio.append(item.replace(\"持股详情\",\"\"))\n",
    "    else:\n",
    "        new_radio.append(item)"
   ]
  },
  {
   "cell_type": "code",
   "execution_count": 41,
   "metadata": {},
   "outputs": [],
   "source": [
    "data['持股比例'] = new_radio"
   ]
  },
  {
   "cell_type": "code",
   "execution_count": 42,
   "metadata": {},
   "outputs": [
    {
     "data": {
      "text/html": [
       "<div>\n",
       "<style scoped>\n",
       "    .dataframe tbody tr th:only-of-type {\n",
       "        vertical-align: middle;\n",
       "    }\n",
       "\n",
       "    .dataframe tbody tr th {\n",
       "        vertical-align: top;\n",
       "    }\n",
       "\n",
       "    .dataframe thead th {\n",
       "        text-align: right;\n",
       "    }\n",
       "</style>\n",
       "<table border=\"1\" class=\"dataframe\">\n",
       "  <thead>\n",
       "    <tr style=\"text-align: right;\">\n",
       "      <th></th>\n",
       "      <th>Unnamed: 0</th>\n",
       "      <th>企业名称</th>\n",
       "      <th>股东(发起人)</th>\n",
       "      <th>持股比例</th>\n",
       "    </tr>\n",
       "  </thead>\n",
       "  <tbody>\n",
       "    <tr>\n",
       "      <th>0</th>\n",
       "      <td>0</td>\n",
       "      <td>俊安（天津）实业有限公司</td>\n",
       "      <td>俊安（中国）投资有限公司</td>\n",
       "      <td>100%</td>\n",
       "    </tr>\n",
       "    <tr>\n",
       "      <th>1</th>\n",
       "      <td>0</td>\n",
       "      <td>俊杰机械（深圳）有限公司</td>\n",
       "      <td>俊杰工程有限公司</td>\n",
       "      <td>100%</td>\n",
       "    </tr>\n",
       "    <tr>\n",
       "      <th>2</th>\n",
       "      <td>0</td>\n",
       "      <td>俊杰电子（惠州）有限公司</td>\n",
       "      <td>维东有限公司</td>\n",
       "      <td>100%</td>\n",
       "    </tr>\n",
       "    <tr>\n",
       "      <th>3</th>\n",
       "      <td>0</td>\n",
       "      <td>俐达科技电子（昆山）有限公司</td>\n",
       "      <td>香港俐达国际公司</td>\n",
       "      <td>100%</td>\n",
       "    </tr>\n",
       "    <tr>\n",
       "      <th>4</th>\n",
       "      <td>0</td>\n",
       "      <td>俐马（苏州）化纤纺织工业有限公司</td>\n",
       "      <td>RAMATEX SDN.BHD.</td>\n",
       "      <td>100%</td>\n",
       "    </tr>\n",
       "    <tr>\n",
       "      <th>...</th>\n",
       "      <td>...</td>\n",
       "      <td>...</td>\n",
       "      <td>...</td>\n",
       "      <td>...</td>\n",
       "    </tr>\n",
       "    <tr>\n",
       "      <th>25132</th>\n",
       "      <td>1</td>\n",
       "      <td>天津市三跃塑料制品有限公司</td>\n",
       "      <td>杨满堂</td>\n",
       "      <td>14.08753%</td>\n",
       "    </tr>\n",
       "    <tr>\n",
       "      <th>25133</th>\n",
       "      <td>2</td>\n",
       "      <td>天津市三跃塑料制品有限公司</td>\n",
       "      <td>陈桂芹</td>\n",
       "      <td>11.12546%</td>\n",
       "    </tr>\n",
       "    <tr>\n",
       "      <th>25134</th>\n",
       "      <td>0</td>\n",
       "      <td>天津市三隆化工有限公司</td>\n",
       "      <td>津药药业股份有限公司</td>\n",
       "      <td>99.6926%</td>\n",
       "    </tr>\n",
       "    <tr>\n",
       "      <th>25135</th>\n",
       "      <td>1</td>\n",
       "      <td>天津市三隆化工有限公司</td>\n",
       "      <td>天津金耀氨基酸有限公司</td>\n",
       "      <td>0.3074%</td>\n",
       "    </tr>\n",
       "    <tr>\n",
       "      <th>25136</th>\n",
       "      <td>0</td>\n",
       "      <td>天津市东丽区天立铆造有限公司</td>\n",
       "      <td>天津新立工程建设集团有限公司</td>\n",
       "      <td>100%</td>\n",
       "    </tr>\n",
       "  </tbody>\n",
       "</table>\n",
       "<p>25137 rows × 4 columns</p>\n",
       "</div>"
      ],
      "text/plain": [
       "       Unnamed: 0              企业名称           股东(发起人)       持股比例\n",
       "0               0      俊安（天津）实业有限公司      俊安（中国）投资有限公司       100%\n",
       "1               0      俊杰机械（深圳）有限公司          俊杰工程有限公司       100%\n",
       "2               0      俊杰电子（惠州）有限公司            维东有限公司       100%\n",
       "3               0    俐达科技电子（昆山）有限公司          香港俐达国际公司       100%\n",
       "4               0  俐马（苏州）化纤纺织工业有限公司  RAMATEX SDN.BHD.       100%\n",
       "...           ...               ...               ...        ...\n",
       "25132           1     天津市三跃塑料制品有限公司               杨满堂  14.08753%\n",
       "25133           2     天津市三跃塑料制品有限公司               陈桂芹  11.12546%\n",
       "25134           0       天津市三隆化工有限公司        津药药业股份有限公司   99.6926%\n",
       "25135           1       天津市三隆化工有限公司       天津金耀氨基酸有限公司    0.3074%\n",
       "25136           0    天津市东丽区天立铆造有限公司    天津新立工程建设集团有限公司       100%\n",
       "\n",
       "[25137 rows x 4 columns]"
      ]
     },
     "execution_count": 42,
     "metadata": {},
     "output_type": "execute_result"
    }
   ],
   "source": [
    "data_2 = pd.read_csv(\"../crawler_result/Holder/10000-20000/result.csv\")\n",
    "data_2"
   ]
  },
  {
   "cell_type": "code",
   "execution_count": 43,
   "metadata": {},
   "outputs": [],
   "source": [
    "cnt = 0\n",
    "new_radio = []\n",
    "for item in data_2['持股比例']:\n",
    "    if '持股详情' in item:\n",
    "        new_radio.append(item.replace(\"持股详情\",\"\"))\n",
    "    else:\n",
    "        new_radio.append(item)"
   ]
  },
  {
   "cell_type": "code",
   "execution_count": 44,
   "metadata": {},
   "outputs": [],
   "source": [
    "data_2['持股比例'] = new_radio"
   ]
  },
  {
   "cell_type": "code",
   "execution_count": 45,
   "metadata": {},
   "outputs": [
    {
     "data": {
      "text/html": [
       "<div>\n",
       "<style scoped>\n",
       "    .dataframe tbody tr th:only-of-type {\n",
       "        vertical-align: middle;\n",
       "    }\n",
       "\n",
       "    .dataframe tbody tr th {\n",
       "        vertical-align: top;\n",
       "    }\n",
       "\n",
       "    .dataframe thead th {\n",
       "        text-align: right;\n",
       "    }\n",
       "</style>\n",
       "<table border=\"1\" class=\"dataframe\">\n",
       "  <thead>\n",
       "    <tr style=\"text-align: right;\">\n",
       "      <th></th>\n",
       "      <th>Unnamed: 0</th>\n",
       "      <th>企业名称</th>\n",
       "      <th>股东(发起人)</th>\n",
       "      <th>持股比例</th>\n",
       "    </tr>\n",
       "  </thead>\n",
       "  <tbody>\n",
       "    <tr>\n",
       "      <th>0</th>\n",
       "      <td>0</td>\n",
       "      <td>ACI（天津）模具有限公司</td>\n",
       "      <td>ACI 天津有限公司</td>\n",
       "      <td>69.99955%</td>\n",
       "    </tr>\n",
       "    <tr>\n",
       "      <th>1</th>\n",
       "      <td>1</td>\n",
       "      <td>ACI（天津）模具有限公司</td>\n",
       "      <td>常熟俊杰模具有限公司</td>\n",
       "      <td>30.00045%</td>\n",
       "    </tr>\n",
       "    <tr>\n",
       "      <th>2</th>\n",
       "      <td>0</td>\n",
       "      <td>BPW（梅州）车轴有限公司</td>\n",
       "      <td>德国BPW车轴企业公司</td>\n",
       "      <td>80%</td>\n",
       "    </tr>\n",
       "    <tr>\n",
       "      <th>3</th>\n",
       "      <td>1</td>\n",
       "      <td>BPW（梅州）车轴有限公司</td>\n",
       "      <td>广东省梅州市嘉宝工贸公司</td>\n",
       "      <td>20%</td>\n",
       "    </tr>\n",
       "    <tr>\n",
       "      <th>4</th>\n",
       "      <td>0</td>\n",
       "      <td>ECCO（厦门）有限公司</td>\n",
       "      <td>ECCO SHOE PRODUCTION PTE.LTD.</td>\n",
       "      <td>100%</td>\n",
       "    </tr>\n",
       "    <tr>\n",
       "      <th>...</th>\n",
       "      <td>...</td>\n",
       "      <td>...</td>\n",
       "      <td>...</td>\n",
       "      <td>...</td>\n",
       "    </tr>\n",
       "    <tr>\n",
       "      <th>25132</th>\n",
       "      <td>1</td>\n",
       "      <td>天津市三跃塑料制品有限公司</td>\n",
       "      <td>杨满堂</td>\n",
       "      <td>14.08753%</td>\n",
       "    </tr>\n",
       "    <tr>\n",
       "      <th>25133</th>\n",
       "      <td>2</td>\n",
       "      <td>天津市三跃塑料制品有限公司</td>\n",
       "      <td>陈桂芹</td>\n",
       "      <td>11.12546%</td>\n",
       "    </tr>\n",
       "    <tr>\n",
       "      <th>25134</th>\n",
       "      <td>0</td>\n",
       "      <td>天津市三隆化工有限公司</td>\n",
       "      <td>津药药业股份有限公司</td>\n",
       "      <td>99.6926%</td>\n",
       "    </tr>\n",
       "    <tr>\n",
       "      <th>25135</th>\n",
       "      <td>1</td>\n",
       "      <td>天津市三隆化工有限公司</td>\n",
       "      <td>天津金耀氨基酸有限公司</td>\n",
       "      <td>0.3074%</td>\n",
       "    </tr>\n",
       "    <tr>\n",
       "      <th>25136</th>\n",
       "      <td>0</td>\n",
       "      <td>天津市东丽区天立铆造有限公司</td>\n",
       "      <td>天津新立工程建设集团有限公司</td>\n",
       "      <td>100%</td>\n",
       "    </tr>\n",
       "  </tbody>\n",
       "</table>\n",
       "<p>46725 rows × 4 columns</p>\n",
       "</div>"
      ],
      "text/plain": [
       "       Unnamed: 0            企业名称                        股东(发起人)       持股比例\n",
       "0               0   ACI（天津）模具有限公司                     ACI 天津有限公司  69.99955%\n",
       "1               1   ACI（天津）模具有限公司                     常熟俊杰模具有限公司  30.00045%\n",
       "2               0   BPW（梅州）车轴有限公司                    德国BPW车轴企业公司        80%\n",
       "3               1   BPW（梅州）车轴有限公司                   广东省梅州市嘉宝工贸公司        20%\n",
       "4               0    ECCO（厦门）有限公司  ECCO SHOE PRODUCTION PTE.LTD.       100%\n",
       "...           ...             ...                            ...        ...\n",
       "25132           1   天津市三跃塑料制品有限公司                            杨满堂  14.08753%\n",
       "25133           2   天津市三跃塑料制品有限公司                            陈桂芹  11.12546%\n",
       "25134           0     天津市三隆化工有限公司                     津药药业股份有限公司   99.6926%\n",
       "25135           1     天津市三隆化工有限公司                    天津金耀氨基酸有限公司    0.3074%\n",
       "25136           0  天津市东丽区天立铆造有限公司                 天津新立工程建设集团有限公司       100%\n",
       "\n",
       "[46725 rows x 4 columns]"
      ]
     },
     "execution_count": 45,
     "metadata": {},
     "output_type": "execute_result"
    }
   ],
   "source": [
    "data = pd.concat([data,data_2])\n",
    "data"
   ]
  },
  {
   "cell_type": "code",
   "execution_count": 46,
   "metadata": {},
   "outputs": [
    {
     "data": {
      "text/plain": [
       "(73130, 4)"
      ]
     },
     "execution_count": 46,
     "metadata": {},
     "output_type": "execute_result"
    }
   ],
   "source": [
    "data_3 = pd.read_csv(\"../crawler_result/Holder/20000-30000/result.csv\")\n",
    "data_3\n",
    "cnt = 0\n",
    "new_radio = []\n",
    "for item in data_3['持股比例']:\n",
    "    if '持股详情' in item:\n",
    "        new_radio.append(item.replace(\"持股详情\",\"\"))\n",
    "    else:\n",
    "        new_radio.append(item)\n",
    "data_3['持股比例'] = new_radio\n",
    "data = pd.concat([data,data_3])\n",
    "data.shape"
   ]
  },
  {
   "cell_type": "code",
   "execution_count": 47,
   "metadata": {},
   "outputs": [
    {
     "data": {
      "text/plain": [
       "(98729, 4)"
      ]
     },
     "execution_count": 47,
     "metadata": {},
     "output_type": "execute_result"
    }
   ],
   "source": [
    "data_3 = pd.read_csv(\"../crawler_result/Holder/30000-40000/result.csv\")\n",
    "data_3\n",
    "cnt = 0\n",
    "new_radio = []\n",
    "for item in data_3['持股比例']:\n",
    "    if '持股详情' in item:\n",
    "        new_radio.append(item.replace(\"持股详情\",\"\"))\n",
    "    else:\n",
    "        new_radio.append(item)\n",
    "data_3['持股比例'] = new_radio\n",
    "data = pd.concat([data,data_3])\n",
    "data.shape"
   ]
  },
  {
   "cell_type": "code",
   "execution_count": 48,
   "metadata": {},
   "outputs": [
    {
     "data": {
      "text/plain": [
       "(127274, 4)"
      ]
     },
     "execution_count": 48,
     "metadata": {},
     "output_type": "execute_result"
    }
   ],
   "source": [
    "data_3 = pd.read_csv(\"../crawler_result/Holder/40000-50000/result.csv\")\n",
    "data_3\n",
    "cnt = 0\n",
    "new_radio = []\n",
    "for item in data_3['持股比例']:\n",
    "    if '持股详情' in item:\n",
    "        new_radio.append(item.replace(\"持股详情\",\"\"))\n",
    "    else:\n",
    "        new_radio.append(item)\n",
    "data_3['持股比例'] = new_radio\n",
    "data = pd.concat([data,data_3])\n",
    "data.shape"
   ]
  },
  {
   "cell_type": "code",
   "execution_count": 49,
   "metadata": {},
   "outputs": [
    {
     "data": {
      "text/plain": [
       "(152202, 4)"
      ]
     },
     "execution_count": 49,
     "metadata": {},
     "output_type": "execute_result"
    }
   ],
   "source": [
    "data_3 = pd.read_csv(\"../crawler_result/Holder/50000-60000/result.csv\")\n",
    "data_3\n",
    "cnt = 0\n",
    "new_radio = []\n",
    "for item in data_3['持股比例']:\n",
    "    if '持股详情' in item:\n",
    "        new_radio.append(item.replace(\"持股详情\",\"\"))\n",
    "    else:\n",
    "        new_radio.append(item)\n",
    "data_3['持股比例'] = new_radio\n",
    "data = pd.concat([data,data_3])\n",
    "data.shape"
   ]
  },
  {
   "cell_type": "code",
   "execution_count": 50,
   "metadata": {},
   "outputs": [
    {
     "data": {
      "text/plain": [
       "(172352, 4)"
      ]
     },
     "execution_count": 50,
     "metadata": {},
     "output_type": "execute_result"
    }
   ],
   "source": [
    "data_3 = pd.read_csv(\"../crawler_result/Holder/60000-end/result.csv\")\n",
    "data_3\n",
    "cnt = 0\n",
    "new_radio = []\n",
    "for item in data_3['持股比例']:\n",
    "    if '持股详情' in item:\n",
    "        new_radio.append(item.replace(\"持股详情\",\"\"))\n",
    "    else:\n",
    "        new_radio.append(item)\n",
    "data_3['持股比例'] = new_radio\n",
    "data = pd.concat([data,data_3])\n",
    "data.shape"
   ]
  },
  {
   "cell_type": "code",
   "execution_count": 51,
   "metadata": {},
   "outputs": [
    {
     "data": {
      "text/plain": [
       "(178669, 4)"
      ]
     },
     "execution_count": 51,
     "metadata": {},
     "output_type": "execute_result"
    }
   ],
   "source": [
    "data_3 = pd.read_csv(\"../crawler_result/Holder/timeout/result.csv\")\n",
    "data_3\n",
    "cnt = 0\n",
    "new_radio = []\n",
    "for item in data_3['持股比例']:\n",
    "    if '持股详情' in item:\n",
    "        new_radio.append(item.replace(\"持股详情\",\"\"))\n",
    "    else:\n",
    "        new_radio.append(item)\n",
    "data_3['持股比例'] = new_radio\n",
    "data = pd.concat([data,data_3])\n",
    "data.shape"
   ]
  },
  {
   "cell_type": "code",
   "execution_count": 52,
   "metadata": {},
   "outputs": [],
   "source": [
    "data.to_csv(\"Holder_info.csv\")"
   ]
  },
  {
   "cell_type": "code",
   "execution_count": null,
   "metadata": {},
   "outputs": [],
   "source": []
  }
 ],
 "metadata": {
  "kernelspec": {
   "display_name": "Python 3",
   "language": "python",
   "name": "python3"
  },
  "language_info": {
   "codemirror_mode": {
    "name": "ipython",
    "version": 3
   },
   "file_extension": ".py",
   "mimetype": "text/x-python",
   "name": "python",
   "nbconvert_exporter": "python",
   "pygments_lexer": "ipython3",
   "version": "3.8.5"
  }
 },
 "nbformat": 4,
 "nbformat_minor": 4
}
